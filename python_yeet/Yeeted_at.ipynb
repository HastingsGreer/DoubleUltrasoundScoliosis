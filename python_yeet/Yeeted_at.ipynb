{
 "cells": [
  {
   "cell_type": "code",
   "execution_count": null,
   "metadata": {},
   "outputs": [],
   "source": [
    "import numpy as np\n",
    "import socket\n",
    "import time\n",
    "import pickle\n",
    "\n",
    "import cv2\n",
    "usScan = []\n",
    "\n",
    "def get_connection():\n",
    "    s = socket.socket(socket.AF_INET,\n",
    "                      socket.SOCK_STREAM)\n",
    "\n",
    "    s.bind((\"\", 9981))\n",
    "\n",
    "    s.listen(1)\n",
    "    try:\n",
    "        conn, addr = s.accept()\n",
    "        print(\"got connection\")\n",
    "        t_start = time.time()\n",
    "        while True:\n",
    "            message_list = []\n",
    "            while sum([len(m) for m in message_list]) < 512 * 512:\n",
    "                message = conn.recv(512 * 512)\n",
    "                if len(message) == 0:\n",
    "                    print(\"connection died\")\n",
    "                    s.close()\n",
    "                    return True\n",
    "\n",
    "\n",
    "                message_list.append(message)\n",
    "            message = b\"\".join(message_list)\n",
    "            print(len(message))\n",
    "\n",
    "            x = np.fromstring(message, dtype=np.uint8).reshape((512, 512))\n",
    "            usScan.append((time.time(), x))\n",
    "\n",
    "            cv2.imshow(\"US_LEFT\", x)\n",
    "            cv2.waitKey(1)\n",
    "    \n",
    "\n",
    "\n",
    "    finally:\n",
    "        s.close()\n",
    "        return False\n",
    "      #  pickle.dump(usScan, open(\"outputs/\" + str(t_start) + \"_\" + str(time.time()), \"wb\"))\n",
    "       # \n",
    "while True:\n",
    "    if not get_connection():\n",
    "        break"
   ]
  },
  {
   "cell_type": "code",
   "execution_count": 17,
   "metadata": {
    "collapsed": true
   },
   "outputs": [],
   "source": [
    "import cv2"
   ]
  },
  {
   "cell_type": "code",
   "execution_count": 1,
   "metadata": {},
   "outputs": [
    {
     "ename": "NameError",
     "evalue": "name 'usScan' is not defined",
     "output_type": "error",
     "traceback": [
      "\u001b[1;31m---------------------------------------------------------------------------\u001b[0m",
      "\u001b[1;31mNameError\u001b[0m                                 Traceback (most recent call last)",
      "\u001b[1;32m<ipython-input-1-fd2161c35b79>\u001b[0m in \u001b[0;36m<module>\u001b[1;34m()\u001b[0m\n\u001b[1;32m----> 1\u001b[1;33m \u001b[0musScan\u001b[0m\u001b[1;33m[\u001b[0m\u001b[1;36m0\u001b[0m\u001b[1;33m]\u001b[0m\u001b[1;33m[\u001b[0m\u001b[1;36m1\u001b[0m\u001b[1;33m]\u001b[0m\u001b[1;33m\u001b[0m\u001b[0m\n\u001b[0m",
      "\u001b[1;31mNameError\u001b[0m: name 'usScan' is not defined"
     ]
    }
   ],
   "source": [
    "usScan[0][1]"
   ]
  },
  {
   "cell_type": "code",
   "execution_count": 29,
   "metadata": {},
   "outputs": [
    {
     "ename": "error",
     "evalue": "OpenCV(4.0.0) C:\\projects\\opencv-python\\opencv\\modules\\highgui\\src\\window_w32.cpp:1230: error: (-215:Assertion failed) dst.data == (uchar*)dst_ptr in function 'cvShowImage'\n",
     "output_type": "error",
     "traceback": [
      "\u001b[1;31m---------------------------------------------------------------------------\u001b[0m",
      "\u001b[1;31merror\u001b[0m                                     Traceback (most recent call last)",
      "\u001b[1;32m<ipython-input-29-5e6f603dbab1>\u001b[0m in \u001b[0;36m<module>\u001b[1;34m()\u001b[0m\n\u001b[1;32m----> 1\u001b[1;33m \u001b[0mcv2\u001b[0m\u001b[1;33m.\u001b[0m\u001b[0mimshow\u001b[0m\u001b[1;33m(\u001b[0m\u001b[1;34m\"ji\"\u001b[0m\u001b[1;33m,\u001b[0m \u001b[0musScan\u001b[0m\u001b[1;33m[\u001b[0m\u001b[1;36m0\u001b[0m\u001b[1;33m]\u001b[0m\u001b[1;33m[\u001b[0m\u001b[1;36m1\u001b[0m\u001b[1;33m]\u001b[0m\u001b[1;33m)\u001b[0m\u001b[1;33m\u001b[0m\u001b[0m\n\u001b[0m",
      "\u001b[1;31merror\u001b[0m: OpenCV(4.0.0) C:\\projects\\opencv-python\\opencv\\modules\\highgui\\src\\window_w32.cpp:1230: error: (-215:Assertion failed) dst.data == (uchar*)dst_ptr in function 'cvShowImage'\n"
     ]
    }
   ],
   "source": [
    "cv2.imshow(\"ji\", usScan[0][1])"
   ]
  },
  {
   "cell_type": "code",
   "execution_count": null,
   "metadata": {
    "collapsed": true
   },
   "outputs": [],
   "source": []
  }
 ],
 "metadata": {
  "kernelspec": {
   "display_name": "Python 3",
   "language": "python",
   "name": "python3"
  }
 },
 "nbformat": 4,
 "nbformat_minor": 2
}
